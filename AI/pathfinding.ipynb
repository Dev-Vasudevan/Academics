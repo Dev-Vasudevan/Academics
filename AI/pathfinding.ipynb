{
 "cells": [
  {
   "cell_type": "markdown",
   "metadata": {},
   "source": [
    "# Pathfinding Algorithms\n",
    "\n",
    "**References**\n",
    "\n",
    "- **[StackExchange post](https://cs.stackexchange.com/a/30779) on proving that A\\* works**\n",
    "- [Introduction to A*](https://www.redblobgames.com/pathfinding/a-star/introduction.html) -- an excellent overview\n",
    "- [Implementation of A*](https://www.redblobgames.com/pathfinding/a-star/implementation.html) -- actual code\n",
    "- [Lecture notes on Dijkstra's algorithm](https://web.stanford.edu/class/archive/cs/cs161/cs161.1176/Lectures/CS161Lecture11.pdf) by Stanford -- a formal treatment"
   ]
  },
  {
   "cell_type": "markdown",
   "metadata": {},
   "source": [
    "## Breadth first search"
   ]
  },
  {
   "cell_type": "code",
   "execution_count": 90,
   "metadata": {},
   "outputs": [],
   "source": [
    "G = {\n",
    "    'B': {('D', 3), ('C', 4)},\n",
    "    'C': {('E', 10)},\n",
    "    'D': {('F', 1), ('E', 2)},\n",
    "    'E': {('G', 6)},\n",
    "    'F': {('G', 10)},\n",
    "    'G': set()\n",
    "}"
   ]
  },
  {
   "cell_type": "code",
   "execution_count": 91,
   "metadata": {},
   "outputs": [],
   "source": [
    "def bfs(G, start):\n",
    "    frontier = [start]\n",
    "    reached = {start}\n",
    "\n",
    "    while frontier:\n",
    "        current = frontier.pop(0)\n",
    "        print(f\"Visiting {current}\")\n",
    "        for neighbor, edge_w in G[current]:\n",
    "            if neighbor not in reached:\n",
    "                frontier.append(neighbor)\n",
    "                reached.add(neighbor)"
   ]
  },
  {
   "cell_type": "code",
   "execution_count": 92,
   "metadata": {},
   "outputs": [
    {
     "name": "stdout",
     "output_type": "stream",
     "text": [
      "Visiting B\n",
      "Visiting C\n",
      "Visiting D\n",
      "Visiting E\n",
      "Visiting F\n",
      "Visiting G\n"
     ]
    }
   ],
   "source": [
    "bfs(G, 'B')"
   ]
  },
  {
   "cell_type": "markdown",
   "metadata": {},
   "source": [
    "## Dijkstra's"
   ]
  },
  {
   "cell_type": "code",
   "execution_count": 93,
   "metadata": {},
   "outputs": [],
   "source": [
    "def reconstruct_path(start, goal, prev):\n",
    "    path = []\n",
    "    current = goal\n",
    "    while current != start:\n",
    "        path = [current] + path\n",
    "        current = prev[current]\n",
    "    return [start] + path"
   ]
  },
  {
   "cell_type": "code",
   "execution_count": 100,
   "metadata": {},
   "outputs": [],
   "source": [
    "from heapq import heappush, heappop"
   ]
  },
  {
   "cell_type": "code",
   "execution_count": 101,
   "metadata": {},
   "outputs": [],
   "source": [
    "def dijkstra(G, start, goal):\n",
    "    dist = {v: float('inf') for v in G} # initial distance estimates\n",
    "    dist[start] = 0\n",
    "\n",
    "    frontier = [(0, start)] # \"frontier\" to be explored \n",
    "    prev = {v: None for v in G} # for storing lowest cost parents\n",
    "\n",
    "    closed = set() # nodes that have been processed completely\n",
    "    \n",
    "    while frontier:\n",
    "        dist_current, current = heappop(frontier)\n",
    "\n",
    "        if current == goal: # early exit\n",
    "            break\n",
    "        \n",
    "        if current in closed: # only the first pass is useful\n",
    "            continue\n",
    "        closed.add(current)\n",
    "\n",
    "        for neighbor, edge_weight in G[current]:\n",
    "            alt_dist = dist[current] + edge_weight\n",
    "            if alt_dist < dist[neighbor]:\n",
    "                dist[neighbor] = alt_dist\n",
    "                prev[neighbor] = current\n",
    "                heappush(frontier, (alt_dist, neighbor)) \n",
    "    \n",
    "    return reconstruct_path(start, goal, prev)"
   ]
  },
  {
   "cell_type": "markdown",
   "metadata": {},
   "source": [
    "To find the optimal path"
   ]
  },
  {
   "cell_type": "code",
   "execution_count": 102,
   "metadata": {},
   "outputs": [
    {
     "data": {
      "text/plain": [
       "['B', 'D', 'E', 'G']"
      ]
     },
     "execution_count": 102,
     "metadata": {},
     "output_type": "execute_result"
    }
   ],
   "source": [
    "dijkstra(G, 'B', 'G')"
   ]
  },
  {
   "cell_type": "markdown",
   "metadata": {},
   "source": [
    "## A* algorithm"
   ]
  },
  {
   "cell_type": "code",
   "execution_count": 103,
   "metadata": {},
   "outputs": [],
   "source": [
    "A = (0, 0)\n",
    "B = (1, 1)\n",
    "C = (2, 2)\n",
    "D = (3, 3)\n",
    "E = (2, 1)\n",
    "F = (1, 2)\n",
    "\n",
    "grid_graph = {\n",
    "    A: [(B, 1.42), (E, 2.24), (F, 2.24)],\n",
    "    B: [(C, 1.42)],\n",
    "    C: [(D, 1.42)],\n",
    "    D: [],\n",
    "    E: [(C, 1), (D, 2.24)],\n",
    "    F: [(C, 1), (D, 2.24)]\n",
    "}"
   ]
  },
  {
   "cell_type": "code",
   "execution_count": 104,
   "metadata": {},
   "outputs": [],
   "source": [
    "def heuristic(a, b):\n",
    "    (x1, y1) = a\n",
    "    (x2, y2) = b\n",
    "    return max(abs(y1 - y2), abs(x1 - x2))"
   ]
  },
  {
   "cell_type": "code",
   "execution_count": 105,
   "metadata": {},
   "outputs": [],
   "source": [
    "def a_star(G, start, goal):\n",
    "    dist = {v: float('inf') for v in G} # initial distance estimates\n",
    "    dist[start] = 0\n",
    "\n",
    "    frontier = [(0, start)] # \"frontier\" to be explored \n",
    "    prev = {v: None for v in G} # for storing lowest cost parents\n",
    "\n",
    "    closed = set()\n",
    "\n",
    "    while frontier:\n",
    "        priority_current, current = heappop(frontier)\n",
    "        \n",
    "        if current == goal:\n",
    "            break\n",
    "\n",
    "        if current in closed:\n",
    "            continue\n",
    "        closed.add(current)\n",
    "\n",
    "        for neighbor, edge_weight in G[current]:\n",
    "            alt_dist = dist[current] + edge_weight\n",
    "            if alt_dist < dist[neighbor]:\n",
    "                dist[neighbor] = alt_dist\n",
    "                prev[neighbor] = current\n",
    "\n",
    "                # this is the only thing that's different from dijkstra's:\n",
    "                priority = alt_dist + heuristic(neighbor, goal)\n",
    "                heappush(frontier, (priority, neighbor)) \n",
    "\n",
    "    return reconstruct_path(start, goal, prev)"
   ]
  },
  {
   "cell_type": "code",
   "execution_count": 106,
   "metadata": {},
   "outputs": [
    {
     "data": {
      "text/plain": [
       "[(0, 0), (1, 1), (2, 2), (3, 3)]"
      ]
     },
     "execution_count": 106,
     "metadata": {},
     "output_type": "execute_result"
    }
   ],
   "source": [
    "a_star(grid_graph, A, D)"
   ]
  },
  {
   "cell_type": "markdown",
   "metadata": {},
   "source": [
    "Never have I ever been so happy."
   ]
  }
 ],
 "metadata": {
  "kernelspec": {
   "display_name": "Python 3",
   "language": "python",
   "name": "python3"
  },
  "language_info": {
   "codemirror_mode": {
    "name": "ipython",
    "version": 3
   },
   "file_extension": ".py",
   "mimetype": "text/x-python",
   "name": "python",
   "nbconvert_exporter": "python",
   "pygments_lexer": "ipython3",
   "version": "3.9.6"
  }
 },
 "nbformat": 4,
 "nbformat_minor": 2
}
