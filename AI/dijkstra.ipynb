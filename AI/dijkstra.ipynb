{
 "cells": [
  {
   "cell_type": "code",
   "execution_count": 4,
   "metadata": {},
   "outputs": [],
   "source": [
    "def backtrack_path(s, dest, prev):\n",
    "    path = []\n",
    "    current = dest\n",
    "    while current != s:\n",
    "        path = [current] + path\n",
    "        current = prev[current]\n",
    "    return [s] + path"
   ]
  },
  {
   "cell_type": "markdown",
   "metadata": {},
   "source": [
    "Without priority queue\n",
    "\n",
    "- [Pseudocode and analysis](https://web.stanford.edu/class/archive/cs/cs161/cs161.1176/Lectures/CS161Lecture11.pdf) by Stanford\n",
    "\n",
    "- [Alternative explanaton](https://brilliant.org/wiki/dijkstras-short-path-finder/) by Brilliant"
   ]
  },
  {
   "cell_type": "code",
   "execution_count": 5,
   "metadata": {},
   "outputs": [],
   "source": [
    "def elegant_dijkstra(G, s, dest, return_cost=False):\n",
    "    d = {t: float('inf') for t in G.keys()} # initial distance estimates\n",
    "    d[s] = 0\n",
    "\n",
    "    F = [t for t in G.keys()] # nodes yet to achieve final distance estimates\n",
    "    π = {t: None for t in G.keys()} # for storing lowest-cost parents\n",
    "\n",
    "    while F:\n",
    "        x = min(F, key=lambda t: d[t])\n",
    "        F.remove(x)\n",
    "\n",
    "        if x == dest: break\n",
    "\n",
    "        for edge in G[x]:\n",
    "            y, w_xy = edge # y and weight of edge x->y\n",
    "            alt = d[x] + w_xy\n",
    "            if alt < d[y]:\n",
    "                d[y] = alt\n",
    "                π[y] = x\n",
    "    \n",
    "    if return_cost:\n",
    "        return d[dest]\n",
    "    else:\n",
    "        return backtrack_path(s, dest, π)"
   ]
  },
  {
   "cell_type": "markdown",
   "metadata": {},
   "source": [
    "With priority queue\n",
    "\n",
    "- A minimal and efficient implementation can be found [here](https://bradfieldcs.com/algos/graphs/dijkstras-algorithm/) "
   ]
  },
  {
   "cell_type": "code",
   "execution_count": 6,
   "metadata": {},
   "outputs": [],
   "source": [
    "from heapq import heappush, heappop\n",
    "\n",
    "def efficient_dijkstra(G, start, dest, return_cost=False):\n",
    "    d = {v: float('inf') for v in G} # initial distance estimates\n",
    "    d[start] = 0\n",
    "\n",
    "    F = [(0, start)] # \"frontier\" to be explored \n",
    "    prev = {v: None for v in G} # for storing lowest cost parents\n",
    "    \n",
    "    while F:\n",
    "        dist_x, x = heappop(F)\n",
    "\n",
    "        if x == dest: break\n",
    "\n",
    "        # only the first time that a node is popped will count\n",
    "        if dist_x > d[x]: continue \n",
    "\n",
    "        for y, w_xy in G[x]:\n",
    "            dist_y = d[x] + w_xy\n",
    "\n",
    "            if dist_y < d[y]:\n",
    "                d[y] = dist_y\n",
    "                prev[y] = x\n",
    "                heappush(F, (dist_y, y)) \n",
    "    \n",
    "    if return_cost:\n",
    "        return d[dest]\n",
    "    else:\n",
    "        return backtrack_path(start, dest, prev)"
   ]
  },
  {
   "cell_type": "code",
   "execution_count": 7,
   "metadata": {},
   "outputs": [],
   "source": [
    "G = {\n",
    "    'B': {('D', 3), ('C', 4)},\n",
    "    'C': {('E', 10)},\n",
    "    'D': {('F', 1), ('E', 2)},\n",
    "    'E': {('G', 6)},\n",
    "    'F': {('G', 10)},\n",
    "    'G': set()\n",
    "}"
   ]
  },
  {
   "cell_type": "markdown",
   "metadata": {},
   "source": [
    "To find the optimal path"
   ]
  },
  {
   "cell_type": "code",
   "execution_count": 8,
   "metadata": {},
   "outputs": [
    {
     "data": {
      "text/plain": [
       "['B', 'D', 'E', 'G']"
      ]
     },
     "execution_count": 8,
     "metadata": {},
     "output_type": "execute_result"
    }
   ],
   "source": [
    "elegant_dijkstra(G, 'B', 'G')"
   ]
  },
  {
   "cell_type": "markdown",
   "metadata": {},
   "source": [
    "To find the cost of the optimal path"
   ]
  },
  {
   "cell_type": "code",
   "execution_count": 9,
   "metadata": {},
   "outputs": [
    {
     "data": {
      "text/plain": [
       "11"
      ]
     },
     "execution_count": 9,
     "metadata": {},
     "output_type": "execute_result"
    }
   ],
   "source": [
    "efficient_dijkstra(G, 'B', 'G', True)"
   ]
  },
  {
   "cell_type": "code",
   "execution_count": 10,
   "metadata": {},
   "outputs": [
    {
     "data": {
      "text/plain": [
       "72"
      ]
     },
     "execution_count": 10,
     "metadata": {},
     "output_type": "execute_result"
    }
   ],
   "source": [
    "M = {\n",
    "    'Dunwich': {('Blaxhall', 17)},\n",
    "    'Blaxhall': {('Dunwich', 15)},\n",
    "    'Harwich': {('Blaxhall', 40), ('Dunwich', 53)},\n",
    "    'Feering': {('Blaxhall', 46), ('Maldon', 11)},\n",
    "    'Maldon': {('Tiptree', 8)},\n",
    "    'Clacton': {('Maldon', 40), ('Harwich', 17)},\n",
    "    'Tiptree': {('Clacton', 29), ('Feering', 3)}\n",
    "}\n",
    "\n",
    "efficient_dijkstra(M, 'Maldon', 'Dunwich', True)"
   ]
  }
 ],
 "metadata": {
  "kernelspec": {
   "display_name": "Python 3",
   "language": "python",
   "name": "python3"
  },
  "language_info": {
   "codemirror_mode": {
    "name": "ipython",
    "version": 3
   },
   "file_extension": ".py",
   "mimetype": "text/x-python",
   "name": "python",
   "nbconvert_exporter": "python",
   "pygments_lexer": "ipython3",
   "version": "3.9.6"
  }
 },
 "nbformat": 4,
 "nbformat_minor": 2
}
