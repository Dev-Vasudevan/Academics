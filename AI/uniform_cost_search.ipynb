{
 "cells": [
  {
   "cell_type": "markdown",
   "metadata": {},
   "source": [
    "[Pseudocode and analysis](https://web.stanford.edu/class/archive/cs/cs161/cs161.1176/Lectures/CS161Lecture11.pdf) by Stanford\n",
    "\n",
    "[Alternative explanaton](https://brilliant.org/wiki/dijkstras-short-path-finder/) by Brilliant"
   ]
  },
  {
   "cell_type": "code",
   "execution_count": 1,
   "metadata": {},
   "outputs": [],
   "source": [
    "def dijkstra(G, s, dest, return_cost=False):\n",
    "    d = {t: float('inf') for t in G.keys()} # initial distance estimates\n",
    "    d[s] = 0\n",
    "\n",
    "    F = [t for t in G.keys()] # nodes yet to achieve final distance estimates\n",
    "    π = {t: None for t in G.keys()} # for storing lowest-cost parents\n",
    "\n",
    "    while F:\n",
    "        x = min(F, key=lambda t: d[t])\n",
    "        F.remove(x)\n",
    "\n",
    "        if x == dest: break\n",
    "\n",
    "        for edge in G[x]:\n",
    "            y, w_xy = edge # y and weight of edge x->y\n",
    "            alt = d[x] + w_xy\n",
    "            if alt < d[y]:\n",
    "                d[y] = alt\n",
    "                π[y] = x\n",
    "    \n",
    "    if return_cost:\n",
    "        return d[dest]\n",
    "    else:\n",
    "        return backtrack_path(s, dest, π)\n",
    "        \n",
    "\n",
    "def backtrack_path(s, dest, π):\n",
    "    path = []\n",
    "    current = dest\n",
    "    while current != s:\n",
    "        path = [current] + path\n",
    "        current = π[current]\n",
    "    return [s] + path"
   ]
  },
  {
   "cell_type": "code",
   "execution_count": 2,
   "metadata": {},
   "outputs": [],
   "source": [
    "G = {\n",
    "    'B': {('D', 3), ('C', 4)},\n",
    "    'C': {('E', 10)},\n",
    "    'D': {('F', 1), ('E', 2)},\n",
    "    'E': {('G', 6)},\n",
    "    'F': {('G', 10)},\n",
    "    'G': set()\n",
    "}"
   ]
  },
  {
   "cell_type": "code",
   "execution_count": 3,
   "metadata": {},
   "outputs": [
    {
     "data": {
      "text/plain": [
       "11"
      ]
     },
     "execution_count": 3,
     "metadata": {},
     "output_type": "execute_result"
    }
   ],
   "source": [
    "dijkstra(G, 'B', 'G', True)"
   ]
  },
  {
   "cell_type": "code",
   "execution_count": 4,
   "metadata": {},
   "outputs": [
    {
     "data": {
      "text/plain": [
       "['B', 'D', 'E', 'G']"
      ]
     },
     "execution_count": 4,
     "metadata": {},
     "output_type": "execute_result"
    }
   ],
   "source": [
    "dijkstra(G, 'B', 'G', False)"
   ]
  }
 ],
 "metadata": {
  "kernelspec": {
   "display_name": "Python 3",
   "language": "python",
   "name": "python3"
  },
  "language_info": {
   "codemirror_mode": {
    "name": "ipython",
    "version": 3
   },
   "file_extension": ".py",
   "mimetype": "text/x-python",
   "name": "python",
   "nbconvert_exporter": "python",
   "pygments_lexer": "ipython3",
   "version": "3.11.6"
  }
 },
 "nbformat": 4,
 "nbformat_minor": 2
}
