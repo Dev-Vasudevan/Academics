{
 "cells": [
  {
   "cell_type": "markdown",
   "metadata": {},
   "source": [
    "## Question 1 and 2\n",
    "Copy A* algorithm from pathfinding.ipynb"
   ]
  },
  {
   "cell_type": "markdown",
   "metadata": {},
   "source": [
    "## Question 3"
   ]
  },
  {
   "cell_type": "code",
   "execution_count": 97,
   "metadata": {},
   "outputs": [],
   "source": [
    "class BoardConfiguration:\n",
    "    def __init__(self, config: list[int]):\n",
    "        self.config = config\n",
    "\n",
    "    def is_solved(self) -> bool:\n",
    "        '''Verify if the board is solved'''\n",
    "        return all([i + 1 == self.config[i] for i in range(8)])\n",
    "    \n",
    "    def neighbors(self) -> list:\n",
    "        '''Return a list of the configurations 1 move away'''\n",
    "        # may lord forgive me for writing this method\n",
    "        blank_index = self.config.index(None)\n",
    "        result = []\n",
    "\n",
    "        for offset in [-1, 1, -3, 3]:\n",
    "            swap_index = blank_index + offset\n",
    "\n",
    "            if (abs(offset) == 1 and swap_index // 3 != blank_index // 3):\n",
    "                continue\n",
    "            \n",
    "            if swap_index in range(9):\n",
    "                tmp = self.config.copy()\n",
    "                tmp[swap_index], tmp[blank_index] = None, tmp[swap_index]\n",
    "                result.append(tmp)\n",
    "\n",
    "        return [BoardConfiguration(i) for i in result] \n",
    "    \n",
    "    def __hash__(self) -> int:\n",
    "        '''Return the hash value of the config\n",
    "        Hash value := index of the blank space\n",
    "        '''\n",
    "        return self.config.index(None)\n",
    "    \n",
    "    def __lt__(self, other) -> bool:\n",
    "        '''Compare on some arbitrary metric\n",
    "        Needed for hashing\n",
    "        '''\n",
    "        return self.config.index(None) < other.config.index(None)\n",
    "    \n",
    "    def heuristic(self) -> int:\n",
    "        '''Return the heuristic value of the board configuration'''\n",
    "        h = 0\n",
    "        for i in range(9):\n",
    "            if self.config[i] != None and self.config[i] != i + 1:\n",
    "                h += 1\n",
    "        return h\n",
    "\n",
    "    def display(self) -> None:\n",
    "        '''Print the board'''\n",
    "        print(\"-\" * 5)\n",
    "        for i in range(3):\n",
    "            for j in range(3):\n",
    "                value = self.config[i * 3 + j]\n",
    "                print(value if value else \" \", end = \" \")\n",
    "            print()\n",
    "        print(\"-\" * 5)"
   ]
  },
  {
   "cell_type": "code",
   "execution_count": 98,
   "metadata": {},
   "outputs": [],
   "source": [
    "def backtrack(end, prev) -> list[BoardConfiguration]:\n",
    "    '''Return backtracked path from start to end using prev dictionary'''\n",
    "    path = []\n",
    "    current = end\n",
    "    while prev[current]:\n",
    "        path.append(current)\n",
    "        current = prev[current]\n",
    "    return path[::-1]\n"
   ]
  },
  {
   "cell_type": "code",
   "execution_count": 99,
   "metadata": {},
   "outputs": [],
   "source": [
    "from heapq import heappush, heappop\n",
    "from collections import defaultdict\n",
    "\n",
    "def a_star(start) -> list[BoardConfiguration]:\n",
    "    '''Return a list of BoardConfigurations from start to solved'''\n",
    "    dist = defaultdict(lambda: float(\"inf\"))  # initial distance estimates\n",
    "    dist[start] = 0\n",
    "\n",
    "    prev = defaultdict(lambda: None)\n",
    "    prev[start] = None\n",
    "\n",
    "    frontier = [(0, start)] # \"frontier\" to be explored \n",
    "    closed = set()\n",
    "\n",
    "    while frontier:\n",
    "        priority_current, current = heappop(frontier)\n",
    "        \n",
    "        if current.is_solved():\n",
    "            break\n",
    "\n",
    "        if current in closed: \n",
    "            continue\n",
    "        closed.add(current)\n",
    "\n",
    "        for neighbor in current.neighbors():\n",
    "            alt_dist = dist[current] + 1 \n",
    "            \n",
    "            if alt_dist < dist[neighbor]:\n",
    "                dist[neighbor] = alt_dist\n",
    "                prev[neighbor] = current\n",
    "\n",
    "                priority = alt_dist + neighbor.heuristic()\n",
    "                heappush(frontier, (priority, neighbor)) \n",
    "\n",
    "    return backtrack(current, prev)"
   ]
  },
  {
   "cell_type": "code",
   "execution_count": 100,
   "metadata": {},
   "outputs": [
    {
     "name": "stdout",
     "output_type": "stream",
     "text": [
      "-----\n",
      "1 2 3 \n",
      "4   6 \n",
      "7 5 8 \n",
      "-----\n",
      "-----\n",
      "1 2 3 \n",
      "4 5 6 \n",
      "7   8 \n",
      "-----\n",
      "-----\n",
      "1 2 3 \n",
      "4 5 6 \n",
      "7 8   \n",
      "-----\n"
     ]
    }
   ],
   "source": [
    "B = BoardConfiguration([1, 2, 3, None, 4, 6, 7, 5, 8])\n",
    "path = a_star(B)\n",
    "for b in path:\n",
    "    b.display()"
   ]
  }
 ],
 "metadata": {
  "kernelspec": {
   "display_name": "Python 3",
   "language": "python",
   "name": "python3"
  },
  "language_info": {
   "codemirror_mode": {
    "name": "ipython",
    "version": 3
   },
   "file_extension": ".py",
   "mimetype": "text/x-python",
   "name": "python",
   "nbconvert_exporter": "python",
   "pygments_lexer": "ipython3",
   "version": "3.9.6"
  }
 },
 "nbformat": 4,
 "nbformat_minor": 2
}
