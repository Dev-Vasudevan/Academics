{
 "cells": [
  {
   "cell_type": "code",
   "execution_count": 88,
   "metadata": {},
   "outputs": [],
   "source": [
    "max_x = int(input(\"Max capacity X: \"))\n",
    "max_y = int(input(\"Max capacity Y: \"))"
   ]
  },
  {
   "cell_type": "code",
   "execution_count": 89,
   "metadata": {},
   "outputs": [],
   "source": [
    "class State:\n",
    "    \"\"\"Current state of the jugs.\n",
    "    \n",
    "    Attributes:\n",
    "        X (int): gallons of water in the max_x-gallon jug\n",
    "        Y (int): gallons of water in the max_y-gallon jug\n",
    "        rule (int): id of rule taken from parent state\n",
    "    \"\"\"\n",
    "    def __init__(self, X=0, Y=0, rule=None):\n",
    "        self.X = X\n",
    "        self.Y = Y\n",
    "        self.rule = rule\n",
    "    \n",
    "    def neighbors(self) -> list[tuple]:\n",
    "        \"\"\"Return a list of pairs of neighboring states and transition rule\"\"\"\n",
    "        result = []\n",
    "        X, Y = self.X, self.Y\n",
    "\n",
    "        if X < max_x: \n",
    "            result.append(State(max_x, Y, 1)) # fill X\n",
    "        if Y < max_y:\n",
    "            result.append(State(X, max_y, 2)) # fill Y\n",
    "        if X > 0:\n",
    "            result.append(State(0, Y, 3)) # empty X\n",
    "        if Y > 0:\n",
    "            result.append(State(X, 0, 4)) # empty Y\n",
    "        if X + Y >= max_x and Y > 0:\n",
    "            result.append(State(max_x, Y - (max_x - X), 5)) # pour from Y to X\n",
    "        if X + Y >= max_y and X > 0:\n",
    "            result.append(State(X - (max_y - Y), max_y, 6)) # pour from X to Y\n",
    "        if X + Y <= max_x and Y > 0:\n",
    "            result.append(State(X + Y, 0, 7)) # pour all from Y to X\n",
    "        if X + Y <= max_y and X > 0:\n",
    "            result.append(State(0, X + Y, 8)) # pour all from X to Y\n",
    "        \n",
    "        return result\n",
    "    \n",
    "    def __eq__(self, other):\n",
    "        return self.X == other.X and self.Y == other.Y\n",
    "    \n",
    "    def __str__(self):\n",
    "        rule_str = f\" # rule {self.rule}\" if self.rule else \"\"\n",
    "        return f\"({self.X}, {self.Y})\" + rule_str\n",
    "    \n",
    "    def __hash__(self):\n",
    "        return self.X * 10 + self.Y"
   ]
  },
  {
   "cell_type": "code",
   "execution_count": 90,
   "metadata": {},
   "outputs": [],
   "source": [
    "def construct_path(prev, start, goal):\n",
    "    path = []\n",
    "    current = goal\n",
    "    while current != start:\n",
    "        path.append(current)\n",
    "        current = prev[current]\n",
    "    path.append(start)\n",
    "    path.reverse()\n",
    "    return path"
   ]
  },
  {
   "cell_type": "code",
   "execution_count": 91,
   "metadata": {},
   "outputs": [],
   "source": [
    "def bfs(start, goal):\n",
    "    frontier = [start]\n",
    "    prev = {start: None}\n",
    "\n",
    "    while frontier:\n",
    "        current = frontier.pop(0)\n",
    "\n",
    "        if current == goal:\n",
    "            break\n",
    "\n",
    "        for next in current.neighbors():\n",
    "            if next not in prev:\n",
    "                frontier.append(next)\n",
    "                prev[next] = current\n",
    "\n",
    "    return construct_path(prev, start, goal)"
   ]
  },
  {
   "cell_type": "code",
   "execution_count": 92,
   "metadata": {},
   "outputs": [],
   "source": [
    "def dfs(start, goal):\n",
    "    frontier = [start]\n",
    "    prev = {start: None}\n",
    "\n",
    "    while frontier:\n",
    "        current = frontier.pop() # the only line that differs from bfs\n",
    "\n",
    "        if current == goal:\n",
    "            break\n",
    "\n",
    "        for next in current.neighbors():\n",
    "            if next not in prev:\n",
    "                frontier.append(next)\n",
    "                prev[next] = current\n",
    "\n",
    "    return construct_path(prev, start, goal)"
   ]
  },
  {
   "cell_type": "code",
   "execution_count": 93,
   "metadata": {},
   "outputs": [],
   "source": [
    "def display_path(path):\n",
    "    for q in path:\n",
    "        print(q)"
   ]
  },
  {
   "cell_type": "code",
   "execution_count": 94,
   "metadata": {},
   "outputs": [
    {
     "name": "stdout",
     "output_type": "stream",
     "text": [
      "Enter goal state\n",
      "Goal state = (2, 0)\n",
      "\n",
      "BFS Path:\n",
      "(0, 0)\n",
      "(0, 3) # rule 2\n",
      "(3, 0) # rule 7\n",
      "(3, 3) # rule 2\n",
      "(4, 2) # rule 5\n",
      "(0, 2) # rule 3\n",
      "(2, 0)\n",
      "\n",
      "DFS Path:\n",
      "(0, 0)\n",
      "(0, 3) # rule 2\n",
      "(3, 0) # rule 7\n",
      "(3, 3) # rule 2\n",
      "(4, 2) # rule 5\n",
      "(0, 2) # rule 3\n",
      "(2, 0)\n"
     ]
    }
   ],
   "source": [
    "print(\"Enter goal state\")\n",
    "X_g = int(input(\"X jug goal: \"))\n",
    "Y_g = int(input(\"Y jug goal: \"))\n",
    "print(f\"Goal state = ({X_g}, {Y_g})\")\n",
    "\n",
    "start = State(0, 0)\n",
    "goal = State(X_g, Y_g)\n",
    "\n",
    "bfs_path = bfs(start, goal)\n",
    "dfs_path = dfs(start, goal)\n",
    "\n",
    "print(\"\\nBFS Path:\")\n",
    "display_path(bfs_path)\n",
    "\n",
    "print(\"\\nDFS Path:\")\n",
    "display_path(dfs_path)"
   ]
  }
 ],
 "metadata": {
  "kernelspec": {
   "display_name": "Python 3",
   "language": "python",
   "name": "python3"
  },
  "language_info": {
   "codemirror_mode": {
    "name": "ipython",
    "version": 3
   },
   "file_extension": ".py",
   "mimetype": "text/x-python",
   "name": "python",
   "nbconvert_exporter": "python",
   "pygments_lexer": "ipython3",
   "version": "3.9.6"
  }
 },
 "nbformat": 4,
 "nbformat_minor": 2
}
